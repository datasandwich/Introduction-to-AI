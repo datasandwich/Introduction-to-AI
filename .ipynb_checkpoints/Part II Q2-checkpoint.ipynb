{
 "cells": [
  {
   "cell_type": "code",
   "execution_count": 13,
   "metadata": {},
   "outputs": [],
   "source": [
    "import numpy as np\n",
    "import pandas as pd\n",
    "from sklearn.naive_bayes import GaussianNB\n",
    "from sklearn.model_selection import cross_validate\n",
    "import seaborn as sns\n",
    "import matplotlib.pyplot as plt"
   ]
  },
  {
   "cell_type": "code",
   "execution_count": 14,
   "metadata": {},
   "outputs": [],
   "source": [
    "data=pd.read_csv('Book1.csv')"
   ]
  },
  {
   "cell_type": "code",
   "execution_count": 15,
   "metadata": {},
   "outputs": [
    {
     "data": {
      "text/html": [
       "<div>\n",
       "<style scoped>\n",
       "    .dataframe tbody tr th:only-of-type {\n",
       "        vertical-align: middle;\n",
       "    }\n",
       "\n",
       "    .dataframe tbody tr th {\n",
       "        vertical-align: top;\n",
       "    }\n",
       "\n",
       "    .dataframe thead th {\n",
       "        text-align: right;\n",
       "    }\n",
       "</style>\n",
       "<table border=\"1\" class=\"dataframe\">\n",
       "  <thead>\n",
       "    <tr style=\"text-align: right;\">\n",
       "      <th></th>\n",
       "      <th>Altitude</th>\n",
       "      <th>Height</th>\n",
       "      <th>Class_var</th>\n",
       "    </tr>\n",
       "  </thead>\n",
       "  <tbody>\n",
       "    <tr>\n",
       "      <th>0</th>\n",
       "      <td>2.20</td>\n",
       "      <td>1.99</td>\n",
       "      <td>Species1</td>\n",
       "    </tr>\n",
       "    <tr>\n",
       "      <th>1</th>\n",
       "      <td>2.04</td>\n",
       "      <td>2.19</td>\n",
       "      <td>Species1</td>\n",
       "    </tr>\n",
       "    <tr>\n",
       "      <th>2</th>\n",
       "      <td>1.95</td>\n",
       "      <td>2.23</td>\n",
       "      <td>Species1</td>\n",
       "    </tr>\n",
       "    <tr>\n",
       "      <th>3</th>\n",
       "      <td>1.79</td>\n",
       "      <td>2.22</td>\n",
       "      <td>Species1</td>\n",
       "    </tr>\n",
       "    <tr>\n",
       "      <th>4</th>\n",
       "      <td>1.91</td>\n",
       "      <td>2.58</td>\n",
       "      <td>Species1</td>\n",
       "    </tr>\n",
       "    <tr>\n",
       "      <th>5</th>\n",
       "      <td>2.31</td>\n",
       "      <td>2.53</td>\n",
       "      <td>Species2</td>\n",
       "    </tr>\n",
       "    <tr>\n",
       "      <th>6</th>\n",
       "      <td>2.49</td>\n",
       "      <td>2.20</td>\n",
       "      <td>Species2</td>\n",
       "    </tr>\n",
       "    <tr>\n",
       "      <th>7</th>\n",
       "      <td>2.94</td>\n",
       "      <td>1.88</td>\n",
       "      <td>Species2</td>\n",
       "    </tr>\n",
       "    <tr>\n",
       "      <th>8</th>\n",
       "      <td>2.20</td>\n",
       "      <td>2.68</td>\n",
       "      <td>Species2</td>\n",
       "    </tr>\n",
       "    <tr>\n",
       "      <th>9</th>\n",
       "      <td>1.97</td>\n",
       "      <td>2.93</td>\n",
       "      <td>Species2</td>\n",
       "    </tr>\n",
       "    <tr>\n",
       "      <th>10</th>\n",
       "      <td>1.02</td>\n",
       "      <td>1.15</td>\n",
       "      <td>Species3</td>\n",
       "    </tr>\n",
       "    <tr>\n",
       "      <th>11</th>\n",
       "      <td>1.54</td>\n",
       "      <td>0.95</td>\n",
       "      <td>Species3</td>\n",
       "    </tr>\n",
       "    <tr>\n",
       "      <th>12</th>\n",
       "      <td>0.82</td>\n",
       "      <td>1.05</td>\n",
       "      <td>Species3</td>\n",
       "    </tr>\n",
       "    <tr>\n",
       "      <th>13</th>\n",
       "      <td>2.93</td>\n",
       "      <td>0.97</td>\n",
       "      <td>Species3</td>\n",
       "    </tr>\n",
       "    <tr>\n",
       "      <th>14</th>\n",
       "      <td>0.76</td>\n",
       "      <td>1.10</td>\n",
       "      <td>Species3</td>\n",
       "    </tr>\n",
       "  </tbody>\n",
       "</table>\n",
       "</div>"
      ],
      "text/plain": [
       "    Altitude  Height Class_var\n",
       "0       2.20    1.99  Species1\n",
       "1       2.04    2.19  Species1\n",
       "2       1.95    2.23  Species1\n",
       "3       1.79    2.22  Species1\n",
       "4       1.91    2.58  Species1\n",
       "5       2.31    2.53  Species2\n",
       "6       2.49    2.20  Species2\n",
       "7       2.94    1.88  Species2\n",
       "8       2.20    2.68  Species2\n",
       "9       1.97    2.93  Species2\n",
       "10      1.02    1.15  Species3\n",
       "11      1.54    0.95  Species3\n",
       "12      0.82    1.05  Species3\n",
       "13      2.93    0.97  Species3\n",
       "14      0.76    1.10  Species3"
      ]
     },
     "execution_count": 15,
     "metadata": {},
     "output_type": "execute_result"
    }
   ],
   "source": [
    "data"
   ]
  },
  {
   "cell_type": "code",
   "execution_count": 16,
   "metadata": {},
   "outputs": [],
   "source": [
    "X=[]\n",
    "for i in range(len(data)):X.append([data['Altitude'][i],data['Height'][i]])\n",
    "y=data['Class_var']"
   ]
  },
  {
   "cell_type": "code",
   "execution_count": 17,
   "metadata": {},
   "outputs": [],
   "source": [
    "from sklearn import preprocessing\n",
    "le = preprocessing.LabelEncoder()\n",
    "Y=le.fit_transform(y)"
   ]
  },
  {
   "cell_type": "code",
   "execution_count": 18,
   "metadata": {},
   "outputs": [
    {
     "name": "stdout",
     "output_type": "stream",
     "text": [
      "[-0.33333333 -0.         -0.         -0.33333333 -0.33333333]\n",
      "[1. 1. 1. 1. 1.]\n",
      "[0.5 1.  1.  0.5 0.5]\n",
      "['Species1']\n"
     ]
    }
   ],
   "source": [
    "from sklearn.naive_bayes import GaussianNB\n",
    "from sklearn import datasets, linear_model\n",
    "from sklearn.model_selection import cross_validate\n",
    "from sklearn.metrics import make_scorer\n",
    "from sklearn.metrics import confusion_matrix\n",
    "from sklearn.svm import LinearSVC\n",
    "clf = GaussianNB()\n",
    "clf.fit(X, y)\n",
    "scores = cross_validate(clf, X, Y, cv=5,\n",
    "                        scoring=('r2', 'neg_mean_squared_error'),\n",
    "                        return_train_score=True)\n",
    "\n",
    "print(scores['test_neg_mean_squared_error'])\n",
    "print(scores['train_r2'])\n",
    "print(scores['test_r2'])\n",
    "print(clf.predict([[2.1, 2.3]]))\n",
    "\n",
    "sns.relplot(data['Altitude'],data['Height'],hue=y)"
   ]
  },
  {
   "cell_type": "code",
   "execution_count": 47,
   "metadata": {},
   "outputs": [
    {
     "name": "stderr",
     "output_type": "stream",
     "text": [
      "/Users/datasandwich/opt/anaconda3/lib/python3.8/site-packages/seaborn/_decorators.py:36: FutureWarning: Pass the following variables as keyword args: x, y. From version 0.12, the only valid positional argument will be `data`, and passing other arguments without an explicit keyword will result in an error or misinterpretation.\n",
      "  warnings.warn(\n"
     ]
    },
    {
     "data": {
      "text/plain": [
       "<seaborn.axisgrid.FacetGrid at 0x7ffcbbba9970>"
      ]
     },
     "execution_count": 47,
     "metadata": {},
     "output_type": "execute_result"
    },
    {
     "data": {
      "image/png": "[encoded data removed]",
      "text/plain": [
       "<Figure size 440.75x360 with 1 Axes>"
      ]
     },
     "metadata": {
      "needs_background": "light"
     },
     "output_type": "display_data"
    }
   ],
   "source": [
    "\n",
    "\n"
   ]
  },
  {
   "cell_type": "code",
   "execution_count": 48,
   "metadata": {},
   "outputs": [
    {
     "data": {
      "text/plain": [
       "array([1], dtype=int32)"
      ]
     },
     "execution_count": 48,
     "metadata": {},
     "output_type": "execute_result"
    }
   ],
   "source": [
    "from sklearn.cluster import KMeans\n",
    "import numpy as np\n",
    "#X = np.array([[1, 2], [1, 4], [1, 0],\n",
    "           #   [10, 2], [10, 4], [10, 0]])\n",
    "kmeans = KMeans(n_clusters=3, random_state=0).fit(X)\n",
    "kmeans.labels_\n",
    "\n",
    "kmeans.predict([[2.1, 2.3]])\n",
    "clus=kmeans.cluster_centers_\n",
    "\n",
    "sns.relplot(data['Altitude'],data['Height'],hue=y)\n",
    "plt.scatter(clus[:,0],clus[:,1],c='r')"
   ]
  },
  {
   "cell_type": "code",
   "execution_count": null,
   "metadata": {},
   "outputs": [],
   "source": []
  }
 ],
 "metadata": {
  "kernelspec": {
   "display_name": "Python 3",
   "language": "python",
   "name": "python3"
  },
  "language_info": {
   "codemirror_mode": {
    "name": "ipython",
    "version": 3
   },
   "file_extension": ".py",
   "mimetype": "text/x-python",
   "name": "python",
   "nbconvert_exporter": "python",
   "pygments_lexer": "ipython3",
   "version": "3.8.5"
  }
 },
 "nbformat": 4,
 "nbformat_minor": 4
}
